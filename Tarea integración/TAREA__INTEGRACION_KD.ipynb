{
  "cells": [
    {
      "cell_type": "code",
      "execution_count": null,
      "metadata": {
        "colab": {
          "base_uri": "https://localhost:8080/"
        },
        "id": "pNCsHLqsEMZF",
        "outputId": "d17b1bad-25f1-4d44-eb45-ce08c758b1dc"
      },
      "outputs": [
        {
          "name": "stdout",
          "output_type": "stream",
          "text": [
            "Valor aproximado de la integral: 0.7451194124361793 y el error: 7.319526426364483e-05\n"
          ]
        }
      ],
      "source": [
        "#PUNTO 5#\n",
        "import numpy as np\n",
        "\n",
        "def f(x):\n",
        "    return np.exp(-x**2)\n",
        "\n",
        "def trapecio(a, b, n):\n",
        "    h = (b - a) / n\n",
        "    integral = 0.5 * (f(a) + f(b))\n",
        "    for i in range(1, n):\n",
        "        integral += f(a + i * h)\n",
        "    integral *= h\n",
        "    return integral\n",
        "\n",
        "def error_trapezoide(a, b, n):\n",
        "    h = (b - a) / n\n",
        "    return (-h**3 / 12)*(f(b) - 2*f((a+b)/2) + f(a))\n",
        "\n",
        "\n",
        "a = 0\n",
        "b = 1\n",
        "n = 6\n",
        "result = trapecio(0, 1, 6)\n",
        "error_nu = error_trapezoide(0, 1, 6)\n",
        "print(f\"Valor aproximado de la integral: {result} y el error: {error_nu}\")"
      ]
    },
    {
      "cell_type": "code",
      "execution_count": 7,
      "metadata": {
        "colab": {
          "base_uri": "https://localhost:8080/"
        },
        "id": "n9Ifx3C2bKYR",
        "outputId": "beaed5be-a5b4-49eb-e9f5-0e61cd198c01"
      },
      "outputs": [
        {
          "output_type": "stream",
          "name": "stdout",
          "text": [
            "Integral aproximada (método del trapecio): 1.1197724490443015\n",
            "Integral aproximada (regla de Simpson 1/3): 1.1197695152418095\n"
          ]
        }
      ],
      "source": [
        "import numpy as np\n",
        "# PUNTO 6\n",
        "\n",
        "def f(x):\n",
        "    R = 0.5\n",
        "    a = 0.01\n",
        "    return (R + x) / np.sqrt(a**2 - x**2)\n",
        "\n",
        "def trapecio(a, b, n):\n",
        "    h = (b - a) / n\n",
        "    integral = 0.5 * (f(a) + f(b))\n",
        "    for i in range(1, n):\n",
        "        integral += f(a + i * h)\n",
        "    integral *= h\n",
        "    return integral\n",
        "\n",
        "\n",
        "def simpson13(a, b, n):\n",
        "    h = (b - a) / n\n",
        "    suma = f(a) + f(b)\n",
        "    for i in range(1, n, 2):\n",
        "        suma += 4 * f(a + i * h)\n",
        "    for i in range(2, n-1, 2):\n",
        "        suma += 2 * f(a + i * h)\n",
        "    return (h / 3) * suma\n",
        "\n",
        "a = -0.009\n",
        "b = 0.009\n",
        "n = 1000\n",
        "\n",
        "\n",
        "integral_trapecio = trapecio(a, b, n)\n",
        "integral_simpson13 = simpson13(a, b, n)\n",
        "\n",
        "print(f\"Integral aproximada (método del trapecio): {integral_trapecio}\")\n",
        "print(f\"Integral aproximada (regla de Simpson 1/3): {integral_simpson13}\")"
      ]
    },
    {
      "cell_type": "code",
      "source": [
        "# PUNTO 7\n",
        "R = 1\n",
        "n = 200\n",
        "\n",
        "x = np.linspace(-R, R, n + 1)\n",
        "y = np.linspace(-R, R, n + 1)\n",
        "X, Y = np.meshgrid(x, y)\n",
        "\n",
        "dx = (x[-1] - x[0]) / n\n",
        "dy = (y[-1] - y[0]) / n\n",
        "dA = dx * dy\n",
        "\n",
        "\n",
        "def f_z(x, y):\n",
        "    r_squared = x**2 + y**2\n",
        "    if r_squared <= R**2:\n",
        "        return np.sqrt(R**2 - r_squared)\n",
        "    else:\n",
        "        return 0\n",
        "\n",
        "f_z_vec = np.vectorize(f_z)\n",
        "\n",
        "volumen_total = 0\n",
        "\n",
        "for i in range(n):\n",
        "    for j in range(n):\n",
        "        x0, y0 = X[i, j], Y[i, j]\n",
        "        x1, y1 = X[i+1, j], Y[i+1, j]\n",
        "        x2, y2 = X[i, j+1], Y[i, j+1]\n",
        "        x3, y3 = X[i+1, j+1], Y[i+1, j+1]\n",
        "\n",
        "\n",
        "        z0 = f_z_vec(x0, y0)\n",
        "        z1 = f_z_vec(x1, y1)\n",
        "        z2 = f_z_vec(x2, y2)\n",
        "        z3 = f_z_vec(x3, y3)\n",
        "\n",
        "\n",
        "        z_promedio = (z0 + z1 + z2 + z3) / 4\n",
        "\n",
        "\n",
        "        volumen_total += z_promedio * dA\n",
        "\n",
        "\n",
        "\n",
        "print(f\"Volumen numérico de la semiesfera: {volumen_total:.5f}\")"
      ],
      "metadata": {
        "id": "N3TlWP7dsdw6"
      },
      "execution_count": null,
      "outputs": []
    },
    {
      "cell_type": "code",
      "execution_count": 25,
      "metadata": {
        "colab": {
          "base_uri": "https://localhost:8080/"
        },
        "id": "cOdW4VfXHbwT",
        "outputId": "f187fbbc-cc53-4134-f9ae-96762aa6d421"
      },
      "outputs": [
        {
          "output_type": "stream",
          "name": "stdout",
          "text": [
            "3*h/8 9*h/8 9*h/8 3*h/8\n",
            "Punto intermedio 1: 0.3333333333333333\n",
            "Punto intermedio 2: 0.6666666666666666\n"
          ]
        }
      ],
      "source": [
        "# PUNTO 9\n",
        "import sympy as sp\n",
        "\n",
        "x, h = sp.symbols('x h')\n",
        "x0, x1, x2, x3 = 0, h, 2*h, 3*h\n",
        "\n",
        "\n",
        "L0 = ((x - x1)*(x - x2)*(x - x3)) / ((x0 - x1)*(x0 - x2)*(x0 - x3))\n",
        "L1 = ((x - x0)*(x - x2)*(x - x3)) / ((x1 - x0)*(x1 - x2)*(x1 - x3))\n",
        "L2 = ((x - x0)*(x - x1)*(x - x3)) / ((x2 - x0)*(x2 - x1)*(x2 - x3))\n",
        "L3 = ((x - x0)*(x - x1)*(x - x2)) / ((x3 - x0)*(x3 - x1)*(x3 - x2))\n",
        "\n",
        "\n",
        "L0_simplified = sp.simplify(L0)\n",
        "L1_simplified = sp.simplify(L1)\n",
        "L2_simplified = sp.simplify(L2)\n",
        "L3_simplified = sp.simplify(L3)\n",
        "\n",
        "L0_simplified, L1_simplified, L2_simplified, L3_simplified\n",
        "\n",
        "\n",
        "integral_L0 = sp.integrate(L0_simplified, (x, 0, 3*h))\n",
        "integral_L1 = sp.integrate(L1_simplified, (x, 0, 3*h))\n",
        "integral_L2 = sp.integrate(L2_simplified, (x, 0, 3*h))\n",
        "integral_L3 = sp.integrate(L3_simplified, (x, 0, 3*h))\n",
        "\n",
        "print(integral_L0, integral_L1, integral_L2, integral_L3)\n",
        "\n",
        "\n",
        "p1 = (2*a + b) / 3\n",
        "p2 = (a + 2*b) / 3\n",
        "\n",
        "print(f\"Punto intermedio 1: {p1}\")\n",
        "print(f\"Punto intermedio 2: {p2}\")\n"
      ]
    },
    {
      "cell_type": "code",
      "source": [
        "# PUNTO 10\n",
        "\n",
        "x, h = sp.symbols('x h')\n",
        "\n",
        "integrando = x * (x - h) * (x - 2*h) * (x - 3*h)\n",
        "\n",
        "I = sp.integrate(integrando, (x, 0, 3*h))\n",
        "\n",
        "I_simplificado = sp.simplify(I)\n",
        "print(I_simplificado)"
      ],
      "metadata": {
        "id": "UUC92oQ5suvs"
      },
      "execution_count": null,
      "outputs": []
    },
    {
      "cell_type": "code",
      "execution_count": 13,
      "metadata": {
        "colab": {
          "base_uri": "https://localhost:8080/"
        },
        "id": "I-dLn0C7Hb5p",
        "outputId": "fa2dd4e1-7601-4211-99e7-fc482e985b05"
      },
      "outputs": [
        {
          "output_type": "stream",
          "name": "stdout",
          "text": [
            "Punto intermedio 1: x1 = (2*a + b) / 3 = 0.3333333333333333\n",
            "Punto intermedio 2: x2 = (a + 2*b) / 3 = 0.6666666666666666\n"
          ]
        }
      ],
      "source": [
        "\n"
      ]
    },
    {
      "cell_type": "code",
      "execution_count": 15,
      "metadata": {
        "colab": {
          "base_uri": "https://localhost:8080/"
        },
        "id": "iSOcIboXHcBq",
        "outputId": "b2d1cbf1-035f-4821-de94-ad560cc53763"
      },
      "outputs": [
        {
          "output_type": "stream",
          "name": "stdout",
          "text": [
            "Grado 1:\n",
            "Ceros: [0.0]\n",
            "Pesos: [2.0]\n",
            "\n",
            "Grado 2:\n",
            "Ceros: [-0.5773502691896257, 0.5773502691896257]\n",
            "Pesos: [1.0, 1.0]\n",
            "\n",
            "Grado 3:\n",
            "Ceros: [-0.7745966692414835, 0.0, 0.7745966692414835]\n",
            "Pesos: [0.5555555555555552, 0.8888888888888888, 0.5555555555555552]\n",
            "\n",
            "Grado 4:\n",
            "Ceros: [-0.861136311594053, -0.3399810435848563, 0.3399810435848563, 0.861136311594053]\n",
            "Pesos: [0.3478548451374528, 0.6521451548625463, 0.6521451548625463, 0.3478548451374528]\n",
            "\n",
            "Grado 5:\n",
            "Ceros: [-0.9061798459386647, -0.5384693101108089, 0.0, 0.5384693101108089, 0.9061798459386647]\n",
            "Pesos: [0.23692688505618723, 0.47862867049564534, 0.5688888888888889, 0.47862867049564534, 0.23692688505618723]\n",
            "\n",
            "Grado 6:\n",
            "Ceros: [-0.932469514203153, -0.6612093864662647, -0.2386191860832277, 0.2386191860832277, 0.6612093864662647, 0.932469514203153]\n",
            "Pesos: [0.17132449237916791, 0.36076157304813855, 0.4679139345726838, 0.4679139345726838, 0.36076157304813855, 0.17132449237916791]\n",
            "\n",
            "Grado 7:\n",
            "Ceros: [-0.9491079123427594, -0.7415311855995048, -0.4058451513773972, 0.0, 0.4058451513773972, 0.741531185599504, 0.9491079123427594]\n",
            "Pesos: [0.12948496616886748, 0.27970539148917434, 0.3818300505051188, 0.4179591836734694, 0.3818300505051188, 0.27970539148917556, 0.12948496616886748]\n",
            "\n",
            "Grado 8:\n",
            "Ceros: [-0.9602898564975375, -0.9602898564975358, -0.5255324099163292, -0.18343464249571217, 0.18343464249571217, 0.5255324099163288, 0.9602898564975361, 0.9602898564975375]\n",
            "Pesos: [0.10122853629037293, 0.10122853629037772, 0.3137066458778868, 0.36268378337835333, 0.36268378337835333, 0.31370664587788627, 0.1012285362903769, 0.10122853629037293]\n",
            "\n",
            "Grado 9:\n",
            "Ceros: [-0.9681602395076265, -0.9681602395077085, -0.8360311073369147, -0.3242534234038089, 0.0, 0.3242534234038089, 0.8360311073369147, 0.9681602395077085, 0.9681602395076265]\n",
            "Pesos: [0.0812743883615732, 0.08127438836136784, 0.1806481606845448, 0.31234707704000286, 0.3302393550012598, 0.31234707704000286, 0.1806481606845448, 0.08127438836136784, 0.0812743883615732]\n",
            "\n",
            "Grado 10:\n",
            "Ceros: [-0.973906528517171, -0.14887433898521785, 0.14887433898163122, -0.865063366688985, -0.1488743389816512, 0.1488743389816512, 0.8650633666889853, -0.14887433898163122, 0.14887433898521787, 0.973906528517171]\n",
            "Pesos: [0.06667134430869061, 0.2955242247144301, 0.2955242247147529, 0.14945134915058148, 0.2955242247147511, 0.2955242247147511, 0.14945134915057756, 0.2955242247147529, 0.2955242247144301, 0.06667134430869061]\n",
            "\n",
            "Grado 11:\n",
            "Ceros: [-0.9782286581460575, -0.730152005578629, -0.5190961292068123, -0.978228658146057, -0.26954315595234607, 0.0, 0.26954315595234607, 0.9782286581460576, 0.5190961292068111, 0.730152005578629, 0.9782286581460575]\n",
            "Pesos: [0.055668567116168514, 0.18629021092506023, 0.23319376459199212, 0.05566856711617486, 0.26280454451024626, 0.2729250867779006, 0.26280454451024626, 0.055668567116169465, 0.23319376459199265, 0.18629021092506023, 0.055668567116168514]\n",
            "\n",
            "Grado 12:\n",
            "Ceros: [-0.9815606342467271, -0.7699026742055763, -0.5873179542866157, -0.3678314989990137, -0.5873179542866223, -0.12523340851146894, 0.12523340851146894, 0.5873179542866223, 0.3678314989990137, 0.5873179542866167, 0.769902674205576, 0.9815606342467271]\n",
            "Pesos: [0.04717533638648789, 0.16007832853654105, 0.20316742672306673, 0.23349253653818994, 0.20316742672306276, 0.24914704581340288, 0.24914704581340288, 0.20316742672306276, 0.23349253653818994, 0.2031674267230753, 0.16007832853650392, 0.04717533638648789]\n",
            "\n",
            "Grado 13:\n",
            "Ceros: [-0.9841830547185872, -0.8015780907333014, -0.6423493394413775, -0.44849275103644615, 0.23045831595513477, -0.23045831595514876, 0.0, 0.23045831595514873, -0.23045831595513477, 0.44849275103644615, 0.6423493394413762, 0.8015780907332948, 0.9841830547185872]\n",
            "Pesos: [0.04048400476531976, 0.13887351021981265, 0.17814598076154564, 0.20781604753688604, 0.22628318026289737, 0.22628318026289573, 0.2325515532308739, 0.22628318026289546, 0.22628318026289737, 0.20781604753688604, 0.17814598076152657, 0.1388735102198035, 0.04048400476531976]\n",
            "\n",
            "Grado 14:\n",
            "Ceros: [-0.9862838086967944, -0.8272013150730793, -0.6872929048116886, -0.5152486363583971, -0.3191123689280418, -0.5152486363666856, -0.10805494870735721, 0.10805494870735721, 0.5152486363666859, 0.3191123689280418, 0.5152486363583969, 0.6872929048116878, 0.8272013150730336, 0.9862838086967944]\n",
            "Pesos: [0.03511946033181517, 0.12151857068574898, 0.15720316715813737, 0.18553839747786727, 0.2051984637212731, 0.18553839747571244, 0.21526385346315716, 0.21526385346315716, 0.1855383974757194, 0.2051984637212731, 0.18553839747787648, 0.1572031671582076, 0.12151857068581823, 0.03511946033181517]\n",
            "\n",
            "Grado 15:\n",
            "Ceros: [-0.9879925180204666, -0.8482065834104191, -0.7244177313602079, -0.5709721726085659, -0.3941513470775628, 3.8712052667481695e-22, -0.20119409399751062, 0.0, 0.20119409399751062, -3.8712052667481695e-22, 0.3941513470775631, 0.5709721726085659, 0.7244177313602141, 0.8482065834104646, 0.9879925180204666]\n",
            "Pesos: [0.03075324199619338, 0.10715922046722759, 0.13957067792620426, 0.16626920581698967, 0.18616100001555938, 0.2025782419255613, 0.19843148532710517, 0.2025782419255613, 0.19843148532710517, 0.2025782419255613, 0.18616100001556168, 0.16626920581698967, 0.13957067792629646, 0.1071592204672616, 0.03075324199619338]\n",
            "\n",
            "Grado 16:\n",
            "Ceros: [-0.9894009349916343, -0.8656312023876652, -0.7554044083549657, -0.6178762444040643, -0.4580167776572279, -0.2816035507792653, -0.2816035507792589, -0.0950125098376778, 0.0950125098376778, 0.2816035507792589, 0.2816035507792655, 0.45801677765722665, 0.617876244404073, 0.7554044083549657, 0.8656312023876652, 0.9894009349916343]\n",
            "Pesos: [0.0271524594117822, 0.0951585116824628, 0.12462897125588612, 0.14959598881608704, 0.16915651939499926, 0.18260341504492258, 0.18260341504492278, 0.18945061045506703, 0.18945061045506703, 0.18260341504492278, 0.18260341504492167, 0.1691565193949953, 0.14959598881613398, 0.12462897125588612, 0.0951585116824628, 0.0271524594117822]\n",
            "\n",
            "Grado 17:\n",
            "Ceros: [-0.9905754753145236, -0.8802391537266637, -0.7815140038967204, -0.6576711592166855, -0.5126905370864863, -0.35123176345444773, -0.17848418149584822, -0.17848418149613265, 0.0, 0.17848418149613265, 0.17848418149584822, 0.35123176345444773, 0.5126905370864863, 0.6576711592166855, 0.7815140038967204, 0.8802391537266637, 0.9905754753145236]\n",
            "Pesos: [0.024148302868296584, 0.08503614831681942, 0.11188384719392734, 0.13513636846877525, 0.15404576107682333, 0.16800410215637246, 0.17656270536699262, 0.1765627053669741, 0.17944647035620653, 0.1765627053669741, 0.17656270536699262, 0.16800410215637246, 0.15404576107682333, 0.13513636846877525, 0.11188384719392734, 0.08503614831681942, 0.024148302868296584]\n",
            "\n",
            "Grado 18:\n",
            "Ceros: [-0.9915651684207494, -0.8926024664989574, 0.9915651684206876, -0.691687043060327, -0.5597708310739558, -0.41175116146284213, -0.25188622569150554, -0.5597708310810149, -0.08477501304180174, 0.08477501304180174, 0.5597708310810149, 0.25188622569150554, 0.4117511614628418, 0.5597708310739496, 0.6916870430603982, -0.9915651684206876, 0.8926024664989574, 0.9915651684207494]\n",
            "Pesos: [0.021616013527090017, 0.07642573025504416, 0.021616013527070876, 0.12255520671181246, 0.14064291467062226, 0.1546846751262564, 0.16427648374583237, 0.14064291466906212, 0.16914238296314166, 0.16914238296314166, 0.14064291466906212, 0.16427648374583237, 0.15468467512626916, 0.14064291467064588, 0.12255520671127916, 0.021616013527070876, 0.07642573025504416, 0.021616013527090017]\n",
            "\n",
            "Grado 19:\n",
            "Ceros: [-0.9924068438439293, -0.9031559036137142, -0.9924068438442181, -0.9924068438432958, -0.6005453046617639, -0.4645707413764451, -0.31656409996363805, -0.9031559036171034, -0.16035864564107113, 0.0, 0.16035864564107113, 0.9031559036135025, 0.31656409996363805, 0.4645707413764451, 0.6005453046617641, 0.992406843843084, 0.9924068438434326, 0.9031559036137142, 0.9924068438439293]\n",
            "Pesos: [0.01946178822934709, 0.06904454273659756, 0.019461788228161938, 0.019461788231133436, 0.12875396253939994, 0.1426067021735395, 0.152766042065857, 0.06904454273114448, 0.15896884339391004, 0.1610544498487837, 0.15896884339391004, 0.0690445427391592, 0.152766042065857, 0.1426067021735395, 0.1287539625392916, 0.01946178823101002, 0.019461788230246222, 0.06904454273659756, 0.01946178822934709]\n",
            "\n",
            "Grado 20:\n",
            "Ceros: [-0.9931285991864122, -0.9122344282476189, -0.6360536807304871, -0.5108670019508094, -0.9931285991836792, -0.5108670019508844, -0.3737060887154181, -0.22778585114164496, -0.6360536807264349, -0.07652652113358371, 0.07652652113358371, 0.6360536807264349, 0.22778585114164512, 0.3737060887154198, 0.510867001950855, 0.9931285991836792, 0.5108670019508561, 0.636053680730428, 0.9122344282495473, 0.9931285991864122]\n",
            "Pesos: [0.017614007135480975, 0.06267204834634023, 0.11819453196033516, 0.13168863844916026, 0.01761400714276965, 0.13168863844902118, 0.14209610931838418, 0.1491729864726044, 0.118194531961468, 0.1527533871307238, 0.1527533871307238, 0.118194531961468, 0.14917298647260413, 0.14209610931837938, 0.1316886384493316, 0.01761400714276965, 0.13168863844919146, 0.11819453196048378, 0.0626720483327144, 0.017614007135480975]\n",
            "\n"
          ]
        }
      ],
      "source": [
        "import sympy as sp\n",
        "import numpy as np\n",
        "#PUNTO 15#\n",
        "\n",
        "x = sp.symbols('x')\n",
        "\n",
        "def newton_raphson(f_lambdified, f_prime_lambdified, x0, tol=1e-10, max_iter=100):\n",
        "    x_k = x0\n",
        "    for _ in range(max_iter):\n",
        "        f_xk = f_lambdified(x_k)\n",
        "        f_prime_xk = f_prime_lambdified(x_k)\n",
        "        if abs(f_xk) < tol:\n",
        "            break\n",
        "        x_k = x_k - f_xk / f_prime_xk\n",
        "    return x_k\n",
        "\n",
        "x = sp.symbols('x')\n",
        "\n",
        "def newton_raphson(f, f_prime, x0, tol=1e-10, max_iter=100):\n",
        "    for _ in range(max_iter):\n",
        "        fx = f(x0)\n",
        "        fpx = f_prime(x0)\n",
        "        if abs(fx) < tol:\n",
        "            return x0\n",
        "        x0 = x0 - fx / fpx\n",
        "    return x0\n",
        "\n",
        "def ceros_legendre_newton(n):\n",
        "    P_n = sp.legendre(n, x)\n",
        "    P_n_deriv = sp.diff(P_n, x)\n",
        "    P_n_func = sp.lambdify(x, P_n, \"numpy\")\n",
        "    P_n_deriv_func = sp.lambdify(x, P_n_deriv, \"numpy\")\n",
        "\n",
        "    aproximaciones_iniciales = np.linspace(-1, 1, n)\n",
        "\n",
        "    ceros = []\n",
        "    for x0 in aproximaciones_iniciales:\n",
        "        raiz = newton_raphson(P_n_func, P_n_deriv_func, x0)\n",
        "        ceros.append(raiz)\n",
        "\n",
        "    return ceros\n",
        "\n",
        "def pesos_legendre_newton(n):\n",
        "    ceros = ceros_legendre_newton(n)\n",
        "    P_n = sp.legendre(n, x)\n",
        "    P_n_deriv = sp.diff(P_n, x)\n",
        "    P_n_deriv_func = sp.lambdify(x, P_n_deriv, \"numpy\")\n",
        "\n",
        "    pesos = []\n",
        "    for x_k in ceros:\n",
        "        w_k = 2 / ((1 - x_k**2) * (P_n_deriv_func(x_k))**2)\n",
        "        pesos.append(w_k)\n",
        "    return pesos\n",
        "\n",
        "ceros_pol_legendre_newton = [ceros_legendre_newton(n) for n in range(1, 21)]\n",
        "\n",
        "\n",
        "pesos_pol_legendre_newton = [pesos_legendre_newton(n) for n in range(1, 21)]\n",
        "\n",
        "\n",
        "for i, (ceros, pesos) in enumerate(zip(ceros_pol_legendre_newton, pesos_pol_legendre_newton), start=1):\n",
        "    print(f\"Grado {i}:\")\n",
        "    print(f\"Ceros: {ceros}\")\n",
        "    print(f\"Pesos: {pesos}\\n\")"
      ]
    },
    {
      "cell_type": "code",
      "execution_count": 30,
      "metadata": {
        "id": "-K7WaXH4HcEj",
        "colab": {
          "base_uri": "https://localhost:8080/"
        },
        "outputId": "1ebe9791-3cd0-44c0-eb7d-235fa122456f"
      },
      "outputs": [
        {
          "output_type": "stream",
          "name": "stdout",
          "text": [
            "Integral aproximada (Gauss-Legendre): 1.2596633483550996\n"
          ]
        }
      ],
      "source": [
        "# PUNTO 16\n",
        "n = 5\n",
        "x_gauss, pesos_gauss = np.polynomial.legendre.leggauss(n)\n",
        "\n",
        "\n",
        "def integrand_1(x):\n",
        "    return 1 / (x**4 + 1)\n",
        "\n",
        "\n",
        "def integrand_2(t):\n",
        "    return t**3 / (1 + t**4)\n",
        "\n",
        "\n",
        "integral_1 = sum(pesos_gauss * integrand_1(0.5 * (x_gauss + 1))) * 0.5\n",
        "\n",
        "\n",
        "integral_2 = sum(pesos_gauss * integrand_2(1 / (0.5 * (x_gauss + 1)))) * 0.5\n",
        "\n",
        "total_integral = integral_1 + integral_2\n",
        "\n",
        "print(f\"Integral aproximada (Gauss-Legendre): {total_integral}\")"
      ]
    },
    {
      "cell_type": "code",
      "execution_count": null,
      "metadata": {
        "id": "O9qmn3HyHcHi"
      },
      "outputs": [],
      "source": [
        "# PUNTO 17\n",
        "def f(x):\n",
        "    return (x**3) / (np.exp(x) - 1)*(np.exp(-x))\n",
        "\n",
        "n = 3\n",
        "\n",
        "x_gauss, w_gauss = np.polynomial.laguerre.laggauss(n)\n",
        "\n",
        "integral_estimada = np.sum(w_gauss * f(x_gauss))\n",
        "\n",
        "\n",
        "I_exacta = (np.pi**4) / 15\n",
        "\n",
        "n_values = range(2, 11)\n",
        "errors = []\n",
        "for n in n_values:\n",
        "    x_gauss, w_gauss = np.polynomial.laguerre.laggauss(n)\n",
        "    integral_estimada = np.sum(w_gauss * f(x_gauss))\n",
        "    error_relativo = abs(integral_estimada - I_exacta) / I_exacta\n",
        "    errors.append(error_relativo)\n",
        "plt.plot(n_values, errors, marker='o')\n",
        "plt.yscale('log')  # Escala logarítmica para mejor visualización\n",
        "plt.xlabel('Número de puntos de evaluación (n)')\n",
        "plt.ylabel('Error relativo')\n",
        "plt.title('Error relativo en la integración de Gauss-Laguerre')\n",
        "plt.grid()\n",
        "plt.show()\n",
        "\n",
        "print(f\"Integral estimada (n = {n}): {integral_estimada}\")\n",
        "print(f\"Valor exacto de la integral: {I_exacta}\")\n",
        "\n"
      ]
    },
    {
      "cell_type": "code",
      "execution_count": 31,
      "metadata": {
        "colab": {
          "base_uri": "https://localhost:8080/",
          "height": 835
        },
        "id": "Zpx_w81LHcJR",
        "outputId": "58da111c-6463-40f4-a853-e559440f0cc3"
      },
      "outputs": [
        {
          "output_type": "display_data",
          "data": {
            "text/plain": [
              "<Figure size 640x480 with 1 Axes>"
            ],
            "image/png": "[encoded data removed]"
          },
          "metadata": {}
        },
        {
          "output_type": "stream",
          "name": "stdout",
          "text": [
            "Point 1: -0.9879925180204854, Weight 1: 0.030753241996118647\n",
            "Point 2: -0.937273392400706, Weight 2: 0.07036604748810807\n",
            "Point 3: -0.8482065834104272, Weight 3: 0.10715922046717177\n",
            "Point 4: -0.7244177313601701, Weight 4: 0.1395706779261539\n",
            "Point 5: -0.5709721726085388, Weight 5: 0.16626920581699378\n",
            "Point 6: -0.3941513470775634, Weight 6: 0.18616100001556188\n",
            "Point 7: -0.20119409399743451, Weight 7: 0.19843148532711125\n",
            "Point 8: 0.0, Weight 8: 0.2025782419255609\n",
            "Point 9: 0.20119409399743451, Weight 9: 0.19843148532711125\n",
            "Point 10: 0.3941513470775634, Weight 10: 0.18616100001556188\n",
            "Point 11: 0.5709721726085388, Weight 11: 0.16626920581699378\n",
            "Point 12: 0.7244177313601701, Weight 12: 0.1395706779261539\n",
            "Point 13: 0.8482065834104272, Weight 13: 0.10715922046717177\n",
            "Point 14: 0.937273392400706, Weight 14: 0.07036604748810807\n",
            "Point 15: 0.9879925180204854, Weight 15: 0.030753241996118647\n",
            "Se han guardado 21 polinomios de Legendre en polinomios_legendre.txt.\n",
            "[ 1.16864077e-18  9.54929659e-01 -1.76262262e-18 -1.15824191e+00\n",
            " -1.25832038e-18  2.19289547e-01 -7.10374769e-18 -1.66422669e-02\n",
            " -3.10940501e-18  6.82206703e-04  3.46415300e-18 -1.75389259e-05\n",
            "  7.36653966e-18  3.09518245e-07 -1.28039618e-18 -3.98394061e-09\n",
            " -7.14175829e-18  3.90697878e-11 -4.61484725e-18 -3.01055305e-13\n",
            " -1.18675457e-16]\n"
          ]
        }
      ],
      "source": [
        "import matplotlib.pyplot as plt\n",
        "# PUNTO 21\n",
        "\n",
        "#B\n",
        "\n",
        "def sgn(x):\n",
        "    if x < 0:\n",
        "        return -1\n",
        "    elif x == 0:\n",
        "        return 0\n",
        "    else:\n",
        "        return 1\n",
        "sgn_values = [sgn(x) for x in [-2, -1, 0, 1, 2]]\n",
        "sgn_values\n",
        "\n",
        "\n",
        "\n",
        "#C\n",
        "\n",
        "def sgn(x):\n",
        "    return np.where(x < 0, -1, np.where(x > 0, 1, 0))\n",
        "x_vals = np.linspace(-2, 2, 500)\n",
        "y_vals = sgn(x_vals)\n",
        "plt.plot(x_vals, y_vals, label='sgn(x)')\n",
        "plt.title('Gráfica de la función signo sgn(x)')\n",
        "plt.grid(True)\n",
        "plt.legend()\n",
        "plt.show()\n",
        "\n",
        "#D\n",
        "\n",
        "n = 15\n",
        "points, weights = np.polynomial.legendre.leggauss(n)\n",
        "for i in range(n):\n",
        "    print(f\"Point {i+1}: {points[i]}, Weight {i+1}: {weights[i]}\")\n",
        "\n",
        "\n",
        "#E\n",
        "\n",
        "N = 20\n",
        "polinomios_legendre = [np.polynomial.legendre.Legendre.basis(n) for n in range(N+1)]\n",
        "with open(\"polinomios_legendre.txt\", \"w\") as file:\n",
        "    for n, Pn in enumerate(polinomios_legendre):\n",
        "        file.write(f\"Polinomio de Legendre P_{n}(x):\\n\")\n",
        "        file.write(f\"{Pn}\\n\\n\")\n",
        "\n",
        "print(f\"Se han guardado {N+1} polinomios de Legendre en polinomios_legendre.txt.\")\n",
        "\n",
        "#F y G\n",
        "\n",
        "def calcular_coeficientes(f, N):\n",
        "    puntos, pesos = np.polynomial.legendre.leggauss(100)\n",
        "    coeficientes = np.zeros(N+1)\n",
        "    for n in range(N+1):\n",
        "        Pn = np.polynomial.legendre.Legendre.basis(n)\n",
        "        integrando = f(puntos) * Pn(puntos)\n",
        "        coeficientes[n] = (2*n + 1) / 2 * np.sum(integrando * pesos)\n",
        "\n",
        "    return coeficientes\n",
        "\n",
        "def f(x):\n",
        "    return np.sin(np.pi * x)\n",
        "N = 20\n",
        "coeficientes = calcular_coeficientes(f, N)\n",
        "print(coeficientes)"
      ]
    }
  ],
  "metadata": {
    "colab": {
      "provenance": []
    },
    "kernelspec": {
      "display_name": "Python 3",
      "name": "python3"
    },
    "language_info": {
      "name": "python"
    }
  },
  "nbformat": 4,
  "nbformat_minor": 0
}
